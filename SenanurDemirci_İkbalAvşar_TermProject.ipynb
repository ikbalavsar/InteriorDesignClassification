{
  "cells": [
    {
      "cell_type": "code",
      "execution_count": 1,
      "metadata": {
        "colab": {
          "base_uri": "https://localhost:8080/"
        },
        "id": "Ls24TpsRgt4J",
        "outputId": "50db47e1-9a40-452c-c064-61c563f3ad75"
      },
      "outputs": [
        {
          "output_type": "stream",
          "name": "stdout",
          "text": [
            "Looking in indexes: https://pypi.org/simple, https://us-python.pkg.dev/colab-wheels/public/simple/\n",
            "Collecting Augmentor\n",
            "  Downloading Augmentor-0.2.10-py2.py3-none-any.whl (38 kB)\n",
            "Requirement already satisfied: Pillow>=5.2.0 in /usr/local/lib/python3.7/dist-packages (from Augmentor) (7.1.2)\n",
            "Requirement already satisfied: future>=0.16.0 in /usr/local/lib/python3.7/dist-packages (from Augmentor) (0.16.0)\n",
            "Requirement already satisfied: numpy>=1.11.0 in /usr/local/lib/python3.7/dist-packages (from Augmentor) (1.21.6)\n",
            "Requirement already satisfied: tqdm>=4.9.0 in /usr/local/lib/python3.7/dist-packages (from Augmentor) (4.64.0)\n",
            "Installing collected packages: Augmentor\n",
            "Successfully installed Augmentor-0.2.10\n"
          ]
        }
      ],
      "source": [
        "#importing needed packages\n",
        "import cv2\n",
        "import seaborn as sns\n",
        "from tqdm import tqdm \n",
        "from sklearn.utils import shuffle\n",
        "from sklearn.model_selection import train_test_split\n",
        "from sklearn.metrics import accuracy_score, confusion_matrix\n",
        "from tensorflow.keras.optimizers import RMSprop,SGD,Adam\n",
        "import tensorflow as tf\n",
        "from tensorflow.keras import datasets, layers, models\n",
        "import matplotlib.pyplot as plt\n",
        "import keras\n",
        "from tensorflow.keras.utils import to_categorical\n",
        "import os\n",
        "import numpy as np\n",
        "from keras.preprocessing import image\n",
        "from keras.models import Sequential, Model \n",
        "from keras.layers import Lambda, SeparableConv2D, BatchNormalization, Dropout, MaxPooling2D, Input, Dense, Conv2D, Activation, Flatten \n",
        "import os\n",
        "import os.path\n",
        "from pathlib import Path\n",
        "import glob\n",
        "import pandas as pd\n",
        "import random\n",
        "!pip install Augmentor\n",
        "import Augmentor"
      ]
    },
    {
      "cell_type": "code",
      "execution_count": 2,
      "metadata": {
        "id": "aUiCLSdjgt4N"
      },
      "outputs": [],
      "source": [
        "class_names = ['CASUAL', 'CLASSIC', 'MODERN', 'NATURAL']#name of the classes\n",
        "nb_classes = len(class_names)\n",
        "image_size = (120,120)#size of image needed"
      ]
    },
    {
      "cell_type": "code",
      "source": [
        "from google.colab import drive\n",
        "drive.mount('/content/drive')"
      ],
      "metadata": {
        "colab": {
          "base_uri": "https://localhost:8080/"
        },
        "id": "7K5_ENWqg2VL",
        "outputId": "2a855500-f7c2-4a9c-af07-d434e7a38413"
      },
      "execution_count": 3,
      "outputs": [
        {
          "output_type": "stream",
          "name": "stdout",
          "text": [
            "Mounted at /content/drive\n"
          ]
        }
      ]
    },
    {
      "cell_type": "code",
      "execution_count": 4,
      "metadata": {
        "id": "0afuZPKhgt4N"
      },
      "outputs": [],
      "source": [
        "Train_Data_Path = Path(\"/content/drive/MyDrive/TRAIN\")#importing train data\n",
        "Test_Data_Path = Path(\"/content/drive/MyDrive/TEST\")#importing test data\n",
        "\n",
        "#print(Train_Data_Path.glob(r\"**\\\\*.jpg\"))"
      ]
    },
    {
      "cell_type": "code",
      "source": [
        "p_Xtrain = Augmentor.Pipeline(Train_Data_Path)\n",
        "p_Xtrain.rotate(probability=0.7, max_left_rotation=20, max_right_rotation=20)\n",
        "p_Xtrain.zoom(probability=0.3, min_factor=1.1, max_factor=1.6)\n",
        "p_Xtrain.sample(1000)"
      ],
      "metadata": {
        "id": "bYkdw7bCnjmb",
        "colab": {
          "base_uri": "https://localhost:8080/"
        },
        "outputId": "09e173c7-2537-4b3d-e25a-99832401aae0"
      },
      "execution_count": 5,
      "outputs": [
        {
          "output_type": "stream",
          "name": "stdout",
          "text": [
            "Initialised with 241 image(s) found.\n",
            "Output directory set to /content/drive/MyDrive/TRAIN/output."
          ]
        },
        {
          "output_type": "stream",
          "name": "stderr",
          "text": [
            "Processing <PIL.Image.Image image mode=RGB size=256x256 at 0x7F7696022A50>: 100%|██████████| 1000/1000 [00:32<00:00, 30.43 Samples/s]\n"
          ]
        }
      ]
    },
    {
      "cell_type": "code",
      "source": [
        "p_test = Augmentor.Pipeline(Test_Data_Path)\n",
        "p_test.rotate(probability=0.7, max_left_rotation=10, max_right_rotation=10)\n",
        "p_test.zoom(probability=0.3, min_factor=1.1, max_factor=1.6)\n",
        "p_test.sample(400)"
      ],
      "metadata": {
        "colab": {
          "base_uri": "https://localhost:8080/"
        },
        "id": "17QeuBaAnlmf",
        "outputId": "15422df1-9c83-4f94-a4e5-5683a208b504"
      },
      "execution_count": 6,
      "outputs": [
        {
          "output_type": "stream",
          "name": "stdout",
          "text": [
            "Initialised with 236 image(s) found.\n",
            "Output directory set to /content/drive/MyDrive/TEST/output."
          ]
        },
        {
          "output_type": "stream",
          "name": "stderr",
          "text": [
            "Processing <PIL.Image.Image image mode=RGB size=256x256 at 0x7F7695EE5BD0>: 100%|██████████| 400/400 [00:10<00:00, 37.88 Samples/s]\n"
          ]
        }
      ]
    },
    {
      "cell_type": "code",
      "execution_count": 7,
      "metadata": {
        "colab": {
          "base_uri": "https://localhost:8080/"
        },
        "id": "_yetGwJRgt4O",
        "outputId": "1270f78e-d912-4f38-de23-365b8fff470a"
      },
      "outputs": [
        {
          "output_type": "stream",
          "name": "stdout",
          "text": [
            "7394\n",
            "2236\n"
          ]
        }
      ],
      "source": [
        "Train_JPG_Path = list(Train_Data_Path.glob(\"**/*.jpg\"))\n",
        "Test_JPG_Path = list(Test_Data_Path.glob(r\"**/*.jpg\"))#changing it to list(.jpeg) path\n",
        "\n",
        "print(len(Train_JPG_Path))\n",
        "print(len(Test_JPG_Path))\n",
        "\n"
      ]
    },
    {
      "cell_type": "code",
      "execution_count": 8,
      "metadata": {
        "id": "KOeP4hnngt4P"
      },
      "outputs": [],
      "source": [
        "Train_JPG_Labels = list(map(lambda x: os.path.split(os.path.split(x)[0])[1],Train_JPG_Path))\n",
        "Test_JPG_Labels = list(map(lambda x: os.path.split(os.path.split(x)[0])[1],Test_JPG_Path))#defining the label values with the help of the folder name"
      ]
    },
    {
      "cell_type": "code",
      "execution_count": 9,
      "metadata": {
        "id": "MimMOfM3gt4P"
      },
      "outputs": [],
      "source": [
        "Train_JPG_Path_Series = pd.Series(Train_JPG_Path,name=\"JPG\").astype(str)\n",
        "Train_JPG_Labels_Series = pd.Series(Train_JPG_Labels,name=\"CATEGORY\").tolist()\n",
        "Test_JPG_Path_Series = pd.Series(Test_JPG_Path,name=\"JPG\").astype(str)\n",
        "Test_JPG_Labels_Series = pd.Series(Test_JPG_Labels,name=\"CATEGORY\").tolist()#converting all the values to series\n"
      ]
    },
    {
      "cell_type": "code",
      "execution_count": 10,
      "metadata": {
        "id": "QEg6LAvmgt4Q"
      },
      "outputs": [],
      "source": [
        "def convertlabels(y):#converting label string to class value\n",
        "    labels=[]\n",
        "    for i in range (0,len(y)):\n",
        "            if y[i]==\"CASUAL\": labels.append(0)#help of if else loop defining class values\n",
        "            elif y[i]==\"CLASSIC\": labels.append(1)\n",
        "            elif y[i]== \"MODERN\": labels.append(2)\n",
        "            else: labels.append(3)\n",
        "    labels=np.array(labels)#conv of list to array\n",
        "    return labels\n",
        "    \n",
        "def convertimage(path):#converting path to image\n",
        "    images=[]\n",
        "    for i in path:\n",
        "        image = cv2.imread(i)#reading image\n",
        "        image = cv2.cvtColor(image, cv2.COLOR_BGR2RGB)#converting BGR image to RGB\n",
        "        image = cv2.resize(image, image_size)#resizing the input image acc to model input size\n",
        "        images.append(image)#appending the 2d array\n",
        "    return np.array(images)"
      ]
    },
    {
      "cell_type": "code",
      "execution_count": 11,
      "metadata": {
        "id": "6CRUAonegt4R"
      },
      "outputs": [],
      "source": [
        "X_train=convertimage(Train_JPG_Path_Series)#converting train path to train image\n",
        "X_test=convertimage(Test_JPG_Path_Series)#converting test path to test image\n",
        "Y_train=convertlabels(Train_JPG_Labels_Series)#converting train label string to class value\n",
        "Y_test=convertlabels(Test_JPG_Labels_Series)#converting test label string to class value\n"
      ]
    },
    {
      "cell_type": "code",
      "execution_count": 12,
      "metadata": {
        "id": "xmfeXnaRgt4R",
        "colab": {
          "base_uri": "https://localhost:8080/"
        },
        "outputId": "ad76360c-8243-4710-fa2f-b7406a8cd834"
      },
      "outputs": [
        {
          "output_type": "stream",
          "name": "stdout",
          "text": [
            "X_train shape (7394, 120, 120, 3)\n",
            "y_train shape (7394,)\n",
            "X_test shape (2236, 120, 120, 3)\n",
            "y_test shape (2236,)\n"
          ]
        }
      ],
      "source": [
        "X_train,Y_train=shuffle(X_train,Y_train,random_state=42)\n",
        "X_test,Y_test=shuffle(X_test,Y_test,random_state=42)#shuffle the train and test values\n",
        "X_train = X_train.astype('float32')\n",
        "X_test = X_test.astype('float32')#converting it into float32\n",
        "X_train /= 255\n",
        "X_test /= 255#normalizing the values\n",
        "\n",
        "\n",
        "print(\"X_train shape\", X_train.shape)\n",
        "print(\"y_train shape\", Y_train.shape)\n",
        "print(\"X_test shape\", X_test.shape)#printing all the dimensions\n",
        "print(\"y_test shape\", Y_test.shape)\n",
        "\n"
      ]
    },
    {
      "cell_type": "code",
      "execution_count": 13,
      "metadata": {
        "id": "P7WNcpzQgt4S"
      },
      "outputs": [],
      "source": [
        "model = Sequential()#defining a model\n",
        "model.add(Conv2D(16, (3, 3), activation='relu', input_shape=(120,120, 3)))#adding convolutional layer\n",
        "model.add(MaxPooling2D((2, 2)))#maxpooling the output of the previous layer with 2x2\n",
        "model.add(Conv2D(32, (3, 3), activation='relu'))\n",
        "model.add(MaxPooling2D((2, 2)))\n",
        "model.add(Dropout(0.25))#inorder prevent over fitting we are using drop out boxes\n",
        "model.add(Conv2D(64, (3, 3), activation='relu'))#repeating the above process 3 times\n",
        "model.add(MaxPooling2D((2, 2)))\n",
        "model.add(Dropout(0.25))\n",
        "model.add(Flatten())\n",
        "model.add(Dense(128, activation='relu'))#adding dense layers which helps to get us kernel which deals with seprating classes \n",
        "model.add(Dropout(0.25))\n",
        "model.add(Dense(4, activation='softmax'))#there are 4 classes to be seprated so here input is 4"
      ]
    },
    {
      "cell_type": "code",
      "source": [
        "model.summary()"
      ],
      "metadata": {
        "colab": {
          "base_uri": "https://localhost:8080/"
        },
        "id": "oF45sRWvvvcr",
        "outputId": "4318b9f5-07f7-4aa4-b328-5bd8b06490b9"
      },
      "execution_count": 14,
      "outputs": [
        {
          "output_type": "stream",
          "name": "stdout",
          "text": [
            "Model: \"sequential\"\n",
            "_________________________________________________________________\n",
            " Layer (type)                Output Shape              Param #   \n",
            "=================================================================\n",
            " conv2d (Conv2D)             (None, 118, 118, 16)      448       \n",
            "                                                                 \n",
            " max_pooling2d (MaxPooling2D  (None, 59, 59, 16)       0         \n",
            " )                                                               \n",
            "                                                                 \n",
            " conv2d_1 (Conv2D)           (None, 57, 57, 32)        4640      \n",
            "                                                                 \n",
            " max_pooling2d_1 (MaxPooling  (None, 28, 28, 32)       0         \n",
            " 2D)                                                             \n",
            "                                                                 \n",
            " dropout (Dropout)           (None, 28, 28, 32)        0         \n",
            "                                                                 \n",
            " conv2d_2 (Conv2D)           (None, 26, 26, 64)        18496     \n",
            "                                                                 \n",
            " max_pooling2d_2 (MaxPooling  (None, 13, 13, 64)       0         \n",
            " 2D)                                                             \n",
            "                                                                 \n",
            " dropout_1 (Dropout)         (None, 13, 13, 64)        0         \n",
            "                                                                 \n",
            " flatten (Flatten)           (None, 10816)             0         \n",
            "                                                                 \n",
            " dense (Dense)               (None, 128)               1384576   \n",
            "                                                                 \n",
            " dropout_2 (Dropout)         (None, 128)               0         \n",
            "                                                                 \n",
            " dense_1 (Dense)             (None, 4)                 516       \n",
            "                                                                 \n",
            "=================================================================\n",
            "Total params: 1,408,676\n",
            "Trainable params: 1,408,676\n",
            "Non-trainable params: 0\n",
            "_________________________________________________________________\n"
          ]
        }
      ]
    },
    {
      "cell_type": "code",
      "execution_count": 15,
      "metadata": {
        "id": "Ygxc5vBJgt4T"
      },
      "outputs": [],
      "source": [
        "model.compile(optimizer='adam',loss='sparse_categorical_crossentropy',metrics=['accuracy'])#compili"
      ]
    },
    {
      "cell_type": "code",
      "execution_count": 16,
      "metadata": {
        "colab": {
          "base_uri": "https://localhost:8080/"
        },
        "id": "jZzg1LLYgt4T",
        "outputId": "a48c07b7-cedc-46f2-d74b-d938d65840ce"
      },
      "outputs": [
        {
          "output_type": "stream",
          "name": "stdout",
          "text": [
            "Epoch 1/20\n",
            "232/232 [==============================] - 93s 396ms/step - loss: 0.9060 - accuracy: 0.6311 - val_loss: 2.1919 - val_accuracy: 0.1874\n",
            "Epoch 2/20\n",
            "232/232 [==============================] - 96s 414ms/step - loss: 0.4235 - accuracy: 0.8393 - val_loss: 4.4991 - val_accuracy: 0.1534\n",
            "Epoch 3/20\n",
            "232/232 [==============================] - 94s 405ms/step - loss: 0.2022 - accuracy: 0.9320 - val_loss: 6.2707 - val_accuracy: 0.1310\n",
            "Epoch 4/20\n",
            "232/232 [==============================] - 94s 406ms/step - loss: 0.1081 - accuracy: 0.9640 - val_loss: 6.7159 - val_accuracy: 0.1753\n",
            "Epoch 5/20\n",
            "232/232 [==============================] - 95s 411ms/step - loss: 0.0741 - accuracy: 0.9777 - val_loss: 7.4088 - val_accuracy: 0.1986\n",
            "Epoch 6/20\n",
            "232/232 [==============================] - 94s 407ms/step - loss: 0.0550 - accuracy: 0.9828 - val_loss: 6.5858 - val_accuracy: 0.1726\n",
            "Epoch 7/20\n",
            "232/232 [==============================] - 97s 418ms/step - loss: 0.0394 - accuracy: 0.9861 - val_loss: 9.8079 - val_accuracy: 0.1664\n",
            "Epoch 8/20\n",
            "232/232 [==============================] - 93s 402ms/step - loss: 0.0352 - accuracy: 0.9892 - val_loss: 9.2745 - val_accuracy: 0.1512\n",
            "Epoch 9/20\n",
            "232/232 [==============================] - 94s 403ms/step - loss: 0.0319 - accuracy: 0.9905 - val_loss: 10.3413 - val_accuracy: 0.1369\n",
            "Epoch 10/20\n",
            "232/232 [==============================] - 95s 412ms/step - loss: 0.0298 - accuracy: 0.9927 - val_loss: 11.7570 - val_accuracy: 0.1248\n",
            "Epoch 11/20\n",
            "232/232 [==============================] - 93s 402ms/step - loss: 0.0289 - accuracy: 0.9895 - val_loss: 9.9878 - val_accuracy: 0.1525\n",
            "Epoch 12/20\n",
            "232/232 [==============================] - 93s 401ms/step - loss: 0.0219 - accuracy: 0.9920 - val_loss: 12.4220 - val_accuracy: 0.1449\n",
            "Epoch 13/20\n",
            "232/232 [==============================] - 94s 406ms/step - loss: 0.0161 - accuracy: 0.9958 - val_loss: 10.7121 - val_accuracy: 0.1995\n",
            "Epoch 14/20\n",
            "232/232 [==============================] - 95s 408ms/step - loss: 0.0843 - accuracy: 0.9767 - val_loss: 10.2475 - val_accuracy: 0.1592\n",
            "Epoch 15/20\n",
            "232/232 [==============================] - 92s 398ms/step - loss: 0.0208 - accuracy: 0.9938 - val_loss: 10.8915 - val_accuracy: 0.1682\n",
            "Epoch 16/20\n",
            "232/232 [==============================] - 94s 404ms/step - loss: 0.0130 - accuracy: 0.9963 - val_loss: 13.3971 - val_accuracy: 0.1427\n",
            "Epoch 17/20\n",
            "232/232 [==============================] - 95s 409ms/step - loss: 0.0110 - accuracy: 0.9963 - val_loss: 15.3061 - val_accuracy: 0.1413\n",
            "Epoch 18/20\n",
            "232/232 [==============================] - 93s 401ms/step - loss: 0.0305 - accuracy: 0.9916 - val_loss: 11.9187 - val_accuracy: 0.1668\n",
            "Epoch 19/20\n",
            "232/232 [==============================] - 95s 408ms/step - loss: 0.0109 - accuracy: 0.9969 - val_loss: 13.4684 - val_accuracy: 0.1275\n",
            "Epoch 20/20\n",
            "232/232 [==============================] - 93s 399ms/step - loss: 0.0128 - accuracy: 0.9959 - val_loss: 11.3546 - val_accuracy: 0.1847\n"
          ]
        }
      ],
      "source": [
        "history = model.fit(X_train, Y_train,epochs=20, \n",
        "                    validation_data=(X_test, Y_test))#fitting the model with the train data and validating"
      ]
    },
    {
      "cell_type": "code",
      "execution_count": null,
      "metadata": {
        "id": "m4kLFPDEgt4T",
        "colab": {
          "base_uri": "https://localhost:8080/",
          "height": 299
        },
        "outputId": "f2680524-f310-4197-ff01-bec768a91a92"
      },
      "outputs": [
        {
          "output_type": "display_data",
          "data": {
            "text/plain": [
              "<Figure size 432x288 with 1 Axes>"
            ],
            "image/png": "[encoded data removed]"
          },
          "metadata": {}
        }
      ],
      "source": [
        "#Plotting the train accuracy\n",
        "N = 20 # Number of epochs\n",
        "plt.style.use(\"ggplot\")\n",
        "plt.figure()\n",
        "plt.plot(np.arange(0, N), history.history[\"accuracy\"], label=\"train_acc\")\n",
        "plt.plot(np.arange(0, N), history.history[\"val_accuracy\"], label=\"val_acc\")\n",
        "plt.plot(np.arange(0, N), history.history[\"loss\"], label=\"train_loss\")\n",
        "plt.plot(np.arange(0, N), history.history[\"val_loss\"], label=\"val_loss\")\n",
        "plt.title(\"Training and Validation of Loss and Accuracy\")\n",
        "plt.xlabel(\"Epochs\")\n",
        "plt.ylabel(\"Loss/Accuracy\")\n",
        "plt.legend(loc=\"upper right\")\n",
        "plt.grid(False)"
      ]
    },
    {
      "cell_type": "code",
      "execution_count": null,
      "metadata": {
        "id": "Rts9UDKugt4U",
        "colab": {
          "base_uri": "https://localhost:8080/"
        },
        "outputId": "216dad2f-60cb-4e3c-a8cd-8e5edb8005c7"
      },
      "outputs": [
        {
          "output_type": "stream",
          "name": "stdout",
          "text": [
            "58/58 [==============================] - 6s 105ms/step - loss: 16.0309 - accuracy: 0.1225\n",
            "Loss of the model  while using  test datas  16.03093910217285\n",
            "Accuracy of the model while using  test datas t 12.254901975393295 %\n",
            "200/200 [==============================] - 21s 106ms/step - loss: 1.7162e-04 - accuracy: 1.0000\n",
            "Loss of the model  while using  train datas   0.0001716162805678323\n",
            "Accuracy of the model while using  train datas  100.0 %\n"
          ]
        }
      ],
      "source": [
        "# Evaluating the model on test and train data to finding the loss and accuracy\n",
        "results = model.evaluate(X_test, Y_test)\n",
        "# Accuracy and loss for test data\n",
        "print(\"Loss of the model  while using  test datas \", results[0])\n",
        "print(\"Accuracy of the model while using  test datas t\", results[1]*100, \"%\")\n",
        "results = model.evaluate(X_train, Y_train)\n",
        "# Accuracy and loss for Train data\n",
        "print(\"Loss of the model  while using  train datas  \", results[0])\n",
        "print(\"Accuracy of the model while using  train datas \", results[1]*100, \"%\")"
      ]
    },
    {
      "cell_type": "code",
      "execution_count": null,
      "metadata": {
        "id": "rzasXwCQgt4U",
        "colab": {
          "base_uri": "https://localhost:8080/"
        },
        "outputId": "c3f1a6c0-0d26-4122-e1a7-2ac2d906bf54"
      },
      "outputs": [
        {
          "output_type": "stream",
          "name": "stdout",
          "text": [
            "              precision    recall  f1-score   support\n",
            "\n",
            "      CASUAL       0.09      0.49      0.15       160\n",
            "     CLASSIC       0.34      0.03      0.05       774\n",
            "      MODERN       0.08      0.47      0.13       129\n",
            "     NATURAL       0.71      0.08      0.14       773\n",
            "\n",
            "    accuracy                           0.12      1836\n",
            "   macro avg       0.31      0.27      0.12      1836\n",
            "weighted avg       0.46      0.12      0.11      1836\n",
            "\n"
          ]
        }
      ],
      "source": [
        "predIdxs = model.predict(X_test)#predicting the label values\n",
        "label = ['CASUAL', 'CLASSIC', 'MODERN', 'NATURAL']\n",
        "\n",
        "from sklearn.metrics import classification_report\n",
        "predIdxs = np.argmax(predIdxs, axis=1)\n",
        "print(classification_report(Y_test, predIdxs,target_names=label))#printing classification metrics"
      ]
    },
    {
      "cell_type": "code",
      "execution_count": null,
      "metadata": {
        "id": "BVI7-0Ijgt4U",
        "colab": {
          "base_uri": "https://localhost:8080/",
          "height": 286
        },
        "outputId": "7bdc212e-22cb-4cd2-c426-c91b62e3fa9d"
      },
      "outputs": [
        {
          "output_type": "display_data",
          "data": {
            "text/plain": [
              "<Figure size 432x288 with 1 Axes>"
            ],
            "image/png": "[encoded data removed]"
          },
          "metadata": {}
        }
      ],
      "source": [
        "from sklearn.metrics import confusion_matrix\n",
        "\n",
        "cm = confusion_matrix(Y_test, predIdxs)\n",
        "# Plot confusion matrix\n",
        "plt.imshow(cm,interpolation='none',cmap='Blues')\n",
        "for (i, j), z in np.ndenumerate(cm):\n",
        "    plt.text(j, i, z, ha='center', va='center')\n",
        "plt.xlabel(\"y Predict\")\n",
        "plt.ylabel(\"y test\")\n",
        "plt.grid(False)\n",
        "plt.show()"
      ]
    },
    {
      "cell_type": "code",
      "execution_count": null,
      "metadata": {
        "id": "7cn5jcFOgt4U"
      },
      "outputs": [],
      "source": [
        ""
      ]
    }
  ],
  "metadata": {
    "kernelspec": {
      "display_name": "Python 3",
      "language": "python",
      "name": "python3"
    },
    "language_info": {
      "codemirror_mode": {
        "name": "ipython",
        "version": 3
      },
      "file_extension": ".py",
      "mimetype": "text/x-python",
      "name": "python",
      "nbconvert_exporter": "python",
      "pygments_lexer": "ipython3",
      "version": "3.8.5"
    },
    "colab": {
      "name": "Basic Model.ipynb",
      "provenance": [],
      "collapsed_sections": []
    }
  },
  "nbformat": 4,
  "nbformat_minor": 0
}